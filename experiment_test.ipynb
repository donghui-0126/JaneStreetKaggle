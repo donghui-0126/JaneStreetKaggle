{
 "cells": [
  {
   "cell_type": "code",
   "execution_count": null,
   "metadata": {},
   "outputs": [],
   "source": [
    "import pickle\n",
    "import pandas as pd\n",
    "import gc\n",
    "import numpy as np\n",
    "import warnings\n",
    "warnings.filterwarnings('ignore')\n",
    "\n",
    "def r2_metric(y_true, y_pred, weights=None):\n",
    "    \"\"\"Calculate weighted R2 score\"\"\"\n",
    "    y_true = y_true.ravel()\n",
    "    y_pred = y_pred.ravel()\n",
    "\n",
    "    # If weights is None, use uniform weights\n",
    "    if weights is None:\n",
    "        weights = np.ones_like(y_true)\n",
    "    else:\n",
    "        weights = weights.ravel()\n",
    "\n",
    "    numerator = np.sum(weights * (y_true - y_pred) ** 2)\n",
    "    denominator = np.sum(weights * (y_true ** 2))\n",
    "    r2_score = 1 - (numerator / denominator)\n",
    "    return 'r2', r2_score, True"
   ]
  },
  {
   "cell_type": "markdown",
   "metadata": {
    "vscode": {
     "languageId": "plaintext"
    }
   },
   "source": [
    "### 기본 모델 \n",
    "- Partition6 | 1_000_000~5_000_000 학습\n",
    "- 5_000_000 ~ 6_000_000 Inference\n",
    "\n",
    "전체 feature 사용함. "
   ]
  },
  {
   "cell_type": "code",
   "execution_count": null,
   "metadata": {},
   "outputs": [],
   "source": [
    "og_model_path = \"experiment_models/og_model_0.pkl\"\n",
    "file_path = \"jane-street-real-time-market-data-forecasting/train.parquet/partition_id=6/part-0.parquet\"\n",
    "TRAIN_START = 1000000\n",
    "TRAIN_END = 2000000\n",
    "TEST_START = 2000000\n",
    "TEST_END = 3000000\n",
    "\n",
    "with open(og_model_path, 'rb') as f:\n",
    "    og_model = pickle.load(f)\n",
    "    \n",
    "og_df = pd.read_parquet(file_path)\n",
    "og_feature_col = og_df.columns[og_df.columns.str.contains(\"feature\")]\n",
    "og_target_col = \"responder_6\"\n",
    "og_weights = og_df.iloc[TEST_START:TEST_END]['weight']\n",
    "og_X = og_df.iloc[TEST_START:TEST_END][og_feature_col]\n",
    "og_y = og_df.iloc[TEST_START:TEST_END][og_target_col]"
   ]
  },
  {
   "cell_type": "code",
   "execution_count": null,
   "metadata": {},
   "outputs": [],
   "source": [
    "og_pred = og_model.predict(og_X)"
   ]
  },
  {
   "cell_type": "code",
   "execution_count": null,
   "metadata": {},
   "outputs": [],
   "source": [
    "r2_metric(og_y, og_pred, og_weights)"
   ]
  },
  {
   "cell_type": "markdown",
   "metadata": {},
   "source": [
    "#### ('r2', np.float64(0.05170168967069455), True)\n"
   ]
  },
  {
   "cell_type": "markdown",
   "metadata": {},
   "source": [
    "### Selected Model \n",
    "- Partition6 | 1_000_000~2_000_000 학습\n",
    "- 2_000_000 ~ 3_000_000 Inference\n",
    "\n",
    "1. 모든 partition에서 모든 feature간 corr 계산\n",
    "2. 모든 feature에서 corr이 0.4가 넘은 feature filtering \n",
    "3. 서로 관계가 있는 feature끼리 Clustering\n",
    "4. Cluster의 가장 숫자가 낮은 feature를 대표 feature로 선정\n",
    "5. Cluster에 속한 나머지 feature drop\n",
    "\n",
    "- feature개수 31개 감소, 대표 feature 14개\n",
    "- clustering 방법: 서로 연관된 feature끼리 전부 묶음 (a - b & b - c -> a - b -c)"
   ]
  },
  {
   "cell_type": "code",
   "execution_count": null,
   "metadata": {},
   "outputs": [],
   "source": [
    "selected_model_path = \"experiment_models/selected_feature_model_1.pkl\"\n",
    "\n",
    "\n",
    "TEST_FILE_PATH = \"eda_chunks/final_rolling_0002.parquet\"\n",
    "\n",
    "with open(selected_model_path, 'rb') as f:\n",
    "    selected_model = pickle.load(f)\n",
    "    \n",
    "selected_df = pd.read_parquet(TEST_FILE_PATH)\n",
    "selected_feature_col = selected_df.columns[(selected_df.columns.str.contains(\"feature\")) & (~selected_df.columns.str.contains(\"rolling\"))]\n",
    "selected_target_col = \"responder_6\"\n",
    "selected_weights = selected_df['weight']\n",
    "selected_X = selected_df[selected_feature_col]\n",
    "selected_y = selected_df[selected_target_col]"
   ]
  },
  {
   "cell_type": "code",
   "execution_count": null,
   "metadata": {},
   "outputs": [],
   "source": [
    "selected_pred = selected_model.predict(selected_X)\n",
    "r2_metric(selected_y, selected_pred, selected_weights)"
   ]
  },
  {
   "cell_type": "markdown",
   "metadata": {},
   "source": [
    "#### ('r2', np.float64(-0.015881716970791437), True)"
   ]
  },
  {
   "cell_type": "markdown",
   "metadata": {},
   "source": [
    "### Selected Rolling Model \n",
    "- Partition6 | 1_000_000~2_000_000 학습\n",
    "- 2_000_000 ~ 3_000_000 Inference\n",
    "\n",
    "- 각 symbol 별로 Moving Average를 진행함. \n",
    "- Feature는 대표 feature만 추가해서 진행 "
   ]
  },
  {
   "cell_type": "code",
   "execution_count": null,
   "metadata": {},
   "outputs": [],
   "source": [
    "import pyarrow.parquet as pq\n",
    "\n",
    "\n",
    "selected_rolling_model_path = \"experiment_models/selected_feature_rolling_model_1.pkl\"\n",
    "TRAIN_START_PARTITION = 1 # 1m ~ 2m\n",
    "TRAIN_END_PARTITION = 4 # 4m ~ 5m -> 1m~5m\n",
    "\n",
    "TEST_FILE_PATH = \"eda_chunks/final_rolling_0001.parquet\"\n",
    "\n",
    "with open(selected_rolling_model_path, 'rb') as f:\n",
    "    selected_rolling_model = pickle.load(f)\n",
    "    \n",
    "columns = pq.read_schema(f'eda_chunks/final_rolling_{str(1).zfill(4)}.parquet').names\n",
    "columns = pd.Index(columns)  # pandas Index로 변환하여 str.contains 사용 가능하게 함\n",
    "\n",
    "# 필요한 컬럼을 선택합니다\n",
    "not_rolling_feature_col = columns[\n",
    "        (columns.str.contains(\"feature\")) & \n",
    "        (~columns.str.contains(\"rolling\"))\n",
    "    ].to_list()\n",
    "\n",
    "rolling_feature_col = columns[\n",
    "        (columns.str.contains(\"rolling\")) & \n",
    "        (~columns.str.contains(\"rolling_2\")) & \n",
    "        (~columns.str.contains(\"rolling_30\")) & \n",
    "        (~columns.str.contains(\"rolling_1000\"))\n",
    "    ].to_list()\n",
    "\n",
    "selected_columns = not_rolling_feature_col + rolling_feature_col + ['responder_6'] + ['weight']\n",
    "selected_rolling_df = pd.read_parquet(f'eda_chunks/final_rolling_{str(2).zfill(4)}.parquet', columns=selected_columns)\n",
    "\n",
    "\n",
    "selected_rolling_target_col = \"responder_6\"\n",
    "selected_rolling_weights = selected_rolling_df['weight']\n",
    "selected_rolling_X = selected_rolling_df[not_rolling_feature_col + rolling_feature_col]\n",
    "selected_rolling_y = selected_rolling_df[selected_rolling_target_col]"
   ]
  },
  {
   "cell_type": "code",
   "execution_count": null,
   "metadata": {},
   "outputs": [],
   "source": [
    "selected_rolling_pred = selected_rolling_model.predict(selected_rolling_X[:200000])\n",
    "r2_metric(selected_rolling_y[:200000], selected_rolling_pred[:200000], selected_rolling_weights[:200000])"
   ]
  },
  {
   "cell_type": "markdown",
   "metadata": {},
   "source": [
    "#### ('r2', np.float64(0.08337754568080169), True)"
   ]
  },
  {
   "cell_type": "markdown",
   "metadata": {},
   "source": []
  }
 ],
 "metadata": {
  "kernelspec": {
   "display_name": "jane_street",
   "language": "python",
   "name": "python3"
  },
  "language_info": {
   "codemirror_mode": {
    "name": "ipython",
    "version": 3
   },
   "file_extension": ".py",
   "mimetype": "text/x-python",
   "name": "python",
   "nbconvert_exporter": "python",
   "pygments_lexer": "ipython3",
   "version": "3.10.15"
  }
 },
 "nbformat": 4,
 "nbformat_minor": 2
}
